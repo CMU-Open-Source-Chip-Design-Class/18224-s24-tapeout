{
 "cells": [
  {
   "cell_type": "code",
   "execution_count": 1,
   "id": "20ac2bf9",
   "metadata": {},
   "outputs": [],
   "source": [
    "# Generate the metadata lookup table using Quine-McCluskey to simplify the information ROM"
   ]
  },
  {
   "cell_type": "code",
   "execution_count": 22,
   "id": "66c38083",
   "metadata": {},
   "outputs": [],
   "source": [
    "import pandas as pd\n",
    "from quine_mccluskey.qm import QuineMcCluskey\n",
    "from datetime import datetime"
   ]
  },
  {
   "cell_type": "code",
   "execution_count": null,
   "id": "a3ef6888",
   "metadata": {},
   "outputs": [],
   "source": []
  },
  {
   "cell_type": "code",
   "execution_count": 23,
   "id": "b5e2f5bd",
   "metadata": {},
   "outputs": [],
   "source": [
    "data = pd.read_csv(\"~/Downloads/student_projects_exp.csv\")\n",
    "data = data[~data[\"Project Name\"].isnull()]"
   ]
  },
  {
   "cell_type": "code",
   "execution_count": 24,
   "id": "4ba18f54",
   "metadata": {},
   "outputs": [
    {
     "data": {
      "text/plain": [
       "14"
      ]
     },
     "execution_count": 24,
     "metadata": {},
     "output_type": "execute_result"
    }
   ],
   "source": [
    "len(data)"
   ]
  },
  {
   "cell_type": "code",
   "execution_count": null,
   "id": "a4c9bd6c",
   "metadata": {},
   "outputs": [],
   "source": []
  },
  {
   "cell_type": "code",
   "execution_count": 25,
   "id": "04e8d9d9",
   "metadata": {},
   "outputs": [
    {
     "name": "stdout",
     "output_type": "stream",
     "text": [
      "1 d01_example_adder\n",
      "6-Bit Comb. Adder (demo)\u0000\n",
      "\n",
      "2 d02_example_counter\n",
      "12-Bit Counter (demo)\u0000\n",
      "\n",
      "5 d05_meta_info\n",
      "Tapeout Meta-Info (demo)\u0000\n",
      "\n",
      "10 d10_jjalacce_connect4\n",
      "Connect-4 Game by John Alacce\u0000\n",
      "\n",
      "11 d11_zhexic_i2cdriver\n",
      "I2C Driver by Zhexi Cao\u0000\n",
      "\n",
      "12 d12_sjg2_tiny_game_of_life\n",
      "Tiny Game of Life by Sebastian Garcia\u0000\n",
      "\n",
      "13 d13_thomaska_cordic\n",
      "CORDIC by Thomas Kang\u0000\n",
      "\n",
      "14 d14_siyuanl4_matrixcalc\n",
      "Matrix Calculator by Siyuan Li\u0000\n",
      "\n",
      "15 d15_spencer2_pianotiles\n",
      "Piano Tiles Game by Spencer Li\u0000\n",
      "\n",
      "16 d16_jaehyun3_bobatc\n",
      "BobATC by Jaehyun Lim\u0000\n",
      "\n",
      "17 d17_cporco_clockbox\n",
      "Clock Box by Christopher Porco\u0000\n",
      "\n",
      "18 d18_vrajesh_motorcontroller\n",
      "Motor Controller by Varun Rajesh\u0000\n",
      "\n",
      "19 d19_gsavant_16bit_serial_cpu\n",
      "16-bit Serial CPU by Gaurav Savant\u0000\n",
      "\n",
      "20 d20_zhehuax_16bit_fpu\n",
      "16-bit FPU by Zhehua Xiang\u0000\n",
      "\n"
     ]
    }
   ],
   "source": [
    "table = {}\n",
    "maxlen = 0\n",
    "for _, x in data.iterrows():\n",
    "    idx = int(x[\"Project Directory\"].split(\"_\")[0].replace(\"d\", \"\"))\n",
    "    proj = x[\"Project Name\"]\n",
    "    stu = str(x[\"First Name\"]) + \" \" + str(x[\"Last Name\"])\n",
    "    \n",
    "    if stu == \"nan nan\":\n",
    "        out = proj + \" (demo)\"\n",
    "    else:\n",
    "        out = proj + \" by \" + stu\n",
    "        \n",
    "    out += \"\\0\"\n",
    "    \n",
    "    print(idx, x[\"Project Directory\"])\n",
    "    print(out)\n",
    "    print()\n",
    "    \n",
    "    if maxlen < len(out): maxlen = len(out)\n",
    "    table[idx] = out\n",
    "    \n",
    "table[60] = f\"Student projects for Spring 2023 course at Carnegie Mellon\\0\"\n",
    "table[61] = f\"18-224/18-624/98-154 Intro to Open-Source Chip Design\\0\"\n",
    "table[62] = f\"Course organized by Anish Singhani and Prof. Bill Nace\\0\"\n",
    "table[63] = f\"ROM generated {datetime.utcnow().strftime('%Y-%m-%d %H:%M:%S UTC')}\\0\"\n",
    "\n",
    "if len(table[60]) > maxlen: maxlen = len(table[60])"
   ]
  },
  {
   "cell_type": "code",
   "execution_count": 26,
   "id": "0f28fd61",
   "metadata": {},
   "outputs": [
    {
     "data": {
      "text/plain": [
       "(18, 59)"
      ]
     },
     "execution_count": 26,
     "metadata": {},
     "output_type": "execute_result"
    }
   ],
   "source": [
    "assert maxlen < 64\n",
    "len(table), maxlen"
   ]
  },
  {
   "cell_type": "code",
   "execution_count": null,
   "id": "65c141b4",
   "metadata": {},
   "outputs": [],
   "source": []
  },
  {
   "cell_type": "code",
   "execution_count": 27,
   "id": "02149b4d",
   "metadata": {},
   "outputs": [],
   "source": [
    "one_terms = [[] for _ in range(8)]\n",
    "dc_terms = [[] for _ in range(8)]\n",
    "\n",
    "for ii in range(8):\n",
    "    ones = one_terms[ii]\n",
    "    dc = dc_terms[ii]\n",
    "    \n",
    "    for idx in range(64):\n",
    "        for i in range(64):\n",
    "            val = (idx << 6) | i\n",
    "\n",
    "            string = table.get(idx, \"\\0\")\n",
    "            if i < len(string):\n",
    "                c = ord(string[i])\n",
    "                if (c & (1 << ii)) != 0:\n",
    "                    ones.append(val)\n",
    "            else:\n",
    "                dc.append(val)\n"
   ]
  },
  {
   "cell_type": "code",
   "execution_count": 28,
   "id": "d30fa2bd",
   "metadata": {},
   "outputs": [],
   "source": [
    "def convert_minterm(term, bits):\n",
    "    term = term[::-1]\n",
    "    s = []\n",
    "    for i in range(bits):\n",
    "        if term[i] == \"-\":\n",
    "            pass\n",
    "        elif term[i] == \"1\":\n",
    "            s.append(f\"index[{i}]\")\n",
    "        elif term[i] == \"0\":\n",
    "            s.append(f\"~index[{i}]\")\n",
    "        else:\n",
    "            assert False\n",
    "    \n",
    "    if len(s) == 0:\n",
    "        return \"0\"\n",
    "    else:\n",
    "        return \"(\" + \" & \".join(s) + \")\""
   ]
  },
  {
   "cell_type": "code",
   "execution_count": 30,
   "id": "d044a390",
   "metadata": {},
   "outputs": [
    {
     "name": "stdout",
     "output_type": "stream",
     "text": [
      "0\n",
      "1\n",
      "2\n",
      "3\n",
      "4\n",
      "5\n",
      "6\n",
      "7\n"
     ]
    }
   ],
   "source": [
    "statements = \"\"\n",
    "\n",
    "for i in range(8):\n",
    "    print(i)\n",
    "    qm = QuineMcCluskey()\n",
    "    s = qm.simplify(ones=one_terms[i], dc=dc_terms[i], num_bits=12)\n",
    "    mt = \" | \".join([convert_minterm(x, 12) for x in s])\n",
    "    statements += (f\"assign val[{i}] = {mt};\\n\\n\")\n",
    "    \n",
    "\n",
    "verilog = f\"\"\"\n",
    "`default_nettype none\n",
    "\n",
    "module my_chip (\n",
    "    input logic [11:0] io_in,\n",
    "    input logic clock, reset,\n",
    "    output logic [11:0] io_out\n",
    ");\n",
    "\n",
    "wire [7:0] val;\n",
    "reg [11:0] index;\n",
    "\n",
    "always_ff @(posedge clock) begin\n",
    "    index <= io_in;\n",
    "    io_out <= {{4'b0000, val}};\n",
    "end\n",
    "\n",
    "{statements}\n",
    "\n",
    "endmodule\n",
    "\"\"\"\n",
    "    \n",
    "with open(\"src/chip.sv\", \"w+\") as f:\n",
    "    f.write(verilog)"
   ]
  },
  {
   "cell_type": "code",
   "execution_count": null,
   "id": "6dbc7dfe",
   "metadata": {},
   "outputs": [],
   "source": []
  },
  {
   "cell_type": "code",
   "execution_count": null,
   "id": "78176a56",
   "metadata": {},
   "outputs": [],
   "source": []
  },
  {
   "cell_type": "code",
   "execution_count": null,
   "id": "d67ee4f8",
   "metadata": {},
   "outputs": [],
   "source": []
  }
 ],
 "metadata": {
  "kernelspec": {
   "display_name": "Python 3 (ipykernel)",
   "language": "python",
   "name": "python3"
  },
  "language_info": {
   "codemirror_mode": {
    "name": "ipython",
    "version": 3
   },
   "file_extension": ".py",
   "mimetype": "text/x-python",
   "name": "python",
   "nbconvert_exporter": "python",
   "pygments_lexer": "ipython3",
   "version": "3.10.4"
  }
 },
 "nbformat": 4,
 "nbformat_minor": 5
}
